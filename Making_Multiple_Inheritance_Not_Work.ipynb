{
 "cells": [
  {
   "cell_type": "code",
   "execution_count": null,
   "metadata": {},
   "outputs": [],
   "source": [
    "import abc"
   ]
  },
  {
   "cell_type": "markdown",
   "metadata": {},
   "source": [
    "## Multiple Inheritance in Python 2\n",
    "* Python's Old Style classes\n"
   ]
  },
  {
   "cell_type": "code",
   "execution_count": 150,
   "metadata": {},
   "outputs": [
    {
     "name": "stdout",
     "output_type": "stream",
     "text": [
      "A.__init__\n",
      "B.__init__\n",
      "A.__init__\n",
      "C.__init__\n",
      "D.__init__\n"
     ]
    },
    {
     "data": {
      "text/plain": [
       "<__main__.D at 0x24ec8419320>"
      ]
     },
     "execution_count": 150,
     "metadata": {},
     "output_type": "execute_result"
    }
   ],
   "source": [
    "class A: \n",
    "    def __init__(self): \n",
    "        print('A.__init__')\n",
    "class B(A): \n",
    "    def __init__(self):  \n",
    "        A.__init__(self)\n",
    "        print('B.__init__')\n",
    "class C(A): \n",
    "    def __init__(self): \n",
    "        A.__init__(self)\n",
    "        print('C.__init__')\n",
    "class D(B,C): \n",
    "    def __init__(self):\n",
    "        B.__init__(self)\n",
    "        C.__init__(self)\n",
    "        print('D.__init__')\n",
    "D()"
   ]
  },
  {
   "cell_type": "markdown",
   "metadata": {},
   "source": [
    "## Multiple Inheritance in Python 2.2\n",
    "* New Style Classes\n",
    "  - the mro\n",
    "  - super()"
   ]
  },
  {
   "cell_type": "code",
   "execution_count": null,
   "metadata": {},
   "outputs": [],
   "source": [
    "class A: \n",
    "    def __init__(self): \n",
    "        \n",
    "        print('A.__init__')\n",
    "class B(A): \n",
    "    def __init__(self):  \n",
    "        \n",
    "        print('B.__init__')\n",
    "class C(A): \n",
    "    def __init__(self): \n",
    "        \n",
    "        print('C.__init__')\n",
    "class D(B,C): \n",
    "    def __init__(self):\n",
    "        \n",
    "        print('D.__init__')"
   ]
  },
  {
   "cell_type": "code",
   "execution_count": 151,
   "metadata": {},
   "outputs": [
    {
     "data": {
      "text/plain": [
       "(__main__.D, __main__.B, __main__.C, __main__.A, object)"
      ]
     },
     "execution_count": 151,
     "metadata": {},
     "output_type": "execute_result"
    }
   ],
   "source": [
    "D.__mro__"
   ]
  },
  {
   "cell_type": "code",
   "execution_count": 38,
   "metadata": {},
   "outputs": [
    {
     "name": "stdout",
     "output_type": "stream",
     "text": [
      "A.__init__\n",
      "C.__init__\n",
      "B.__init__\n",
      "D.__init__\n"
     ]
    },
    {
     "data": {
      "text/plain": [
       "<__main__.D at 0x1f82491aeb8>"
      ]
     },
     "execution_count": 38,
     "metadata": {},
     "output_type": "execute_result"
    }
   ],
   "source": [
    "class A: \n",
    "    def __init__(self): \n",
    "        super(A,self).__init__()\n",
    "        print('A.__init__')\n",
    "class B(A): \n",
    "    def __init__(self):  \n",
    "        super(B,self).__init__()\n",
    "        print('B.__init__')\n",
    "class C(A): \n",
    "    def __init__(self): \n",
    "        super(C,self).__init__()\n",
    "        print('C.__init__')\n",
    "class D(B,C): \n",
    "    def __init__(self):\n",
    "        super(D,self).__init__()\n",
    "        print('D.__init__')\n",
    "        \n",
    "D()"
   ]
  },
  {
   "cell_type": "markdown",
   "metadata": {},
   "source": [
    "Where do we play our games? (10 minutes)"
   ]
  },
  {
   "cell_type": "code",
   "execution_count": 147,
   "metadata": {},
   "outputs": [
    {
     "name": "stdout",
     "output_type": "stream",
     "text": [
      "<class '__main__.MyClass'>\n"
     ]
    }
   ],
   "source": [
    "def my_decorator(klass):\n",
    "    print(klass)\n",
    "    return klass\n",
    "\n",
    "@my_decorator\n",
    "class MyClass: pass"
   ]
  },
  {
   "cell_type": "code",
   "execution_count": 2,
   "metadata": {},
   "outputs": [
    {
     "data": {
      "text/plain": [
       "'Kilroy was here'"
      ]
     },
     "execution_count": 2,
     "metadata": {},
     "output_type": "execute_result"
    }
   ],
   "source": [
    "def graffiti_decorator(klass):\n",
    "    klass.tag = 'Kilroy was here'\n",
    "    return klass\n",
    "\n",
    "@graffiti_decorator\n",
    "class MyClass: pass\n",
    "\n",
    "MyClass.tag"
   ]
  },
  {
   "cell_type": "markdown",
   "metadata": {},
   "source": [
    "* The metaclass - this is the class of the class "
   ]
  },
  {
   "cell_type": "code",
   "execution_count": 155,
   "metadata": {},
   "outputs": [
    {
     "data": {
      "text/plain": [
       "__main__.MyClass"
      ]
     },
     "execution_count": 155,
     "metadata": {},
     "output_type": "execute_result"
    }
   ],
   "source": [
    "class MyClass:pass\n",
    "MyClass().__class__"
   ]
  },
  {
   "cell_type": "code",
   "execution_count": 156,
   "metadata": {},
   "outputs": [
    {
     "data": {
      "text/plain": [
       "__main__.MyClass"
      ]
     },
     "execution_count": 156,
     "metadata": {},
     "output_type": "execute_result"
    }
   ],
   "source": [
    "class MyMeta(type):pass\n",
    "class MyClass(metaclass=MyMeta):pass\n",
    "MyClass().__class__"
   ]
  },
  {
   "cell_type": "code",
   "execution_count": 163,
   "metadata": {},
   "outputs": [],
   "source": [
    "class MyMeta(type):\n",
    "    def mro(cls):\n",
    "        return super(MyMeta, cls).mro()\n",
    "    \n",
    "    def __new__(meta, name, bases, dct, **kwargs):\n",
    "        return super(MyMeta, meta).__new__(meta, name, bases, dct, **kwargs)"
   ]
  },
  {
   "cell_type": "code",
   "execution_count": 164,
   "metadata": {},
   "outputs": [
    {
     "data": {
      "text/plain": [
       "__main__.MyClass"
      ]
     },
     "execution_count": 164,
     "metadata": {},
     "output_type": "execute_result"
    }
   ],
   "source": [
    "class MyClass(metaclass=MyMeta):pass\n",
    "MyClass().__class__"
   ]
  },
  {
   "cell_type": "code",
   "execution_count": 6,
   "metadata": {},
   "outputs": [
    {
     "data": {
      "text/plain": [
       "True"
      ]
     },
     "execution_count": 6,
     "metadata": {},
     "output_type": "execute_result"
    }
   ],
   "source": [
    "class Negativity: pass\n",
    "\n",
    "bool(Negativity)"
   ]
  },
  {
   "cell_type": "code",
   "execution_count": 1,
   "metadata": {},
   "outputs": [
    {
     "data": {
      "text/plain": [
       "False"
      ]
     },
     "execution_count": 1,
     "metadata": {},
     "output_type": "execute_result"
    }
   ],
   "source": [
    "class FalseMeta(type):\n",
    "    \n",
    "    def __bool__(self):\n",
    "        return False\n",
    "    \n",
    "class Negativity(metaclass=FalseMeta): pass\n",
    "\n",
    "bool(Negativity)"
   ]
  },
  {
   "cell_type": "markdown",
   "metadata": {},
   "source": [
    "_I'm sure this will lead to no complications_"
   ]
  },
  {
   "cell_type": "markdown",
   "metadata": {},
   "source": [
    "* class decorators"
   ]
  },
  {
   "cell_type": "markdown",
   "metadata": {},
   "source": [
    "* \\_\\_subclasscheck\\_\\_ and \\_\\_instancecheck_\\_ - Python 2.7"
   ]
  },
  {
   "cell_type": "code",
   "execution_count": null,
   "metadata": {},
   "outputs": [],
   "source": [
    "def __instancecheck__(cls, instance):\n",
    "    return super(mcls, cls).__instancecheck__(instance)\n",
    "def __subclasscheck__(cls, subclass):\n",
    "    return super(mcls, cls).__subclasscheck__(subclass)"
   ]
  },
  {
   "cell_type": "code",
   "execution_count": 34,
   "metadata": {},
   "outputs": [],
   "source": [
    "class CheckCheckedMeta(type):\n",
    "    def __instancecheck__(cls, instance):\n",
    "        print(f'instance checked {instance}')\n",
    "        return super(CheckCheckedMeta, cls).__instancecheck__(instance)\n",
    "    def __subclasscheck__(cls, subclass):\n",
    "        print(f'subclass checked {subclass}')\n",
    "        return super(CheckCheckedMeta, cls).__subclasscheck__(subclass)\n",
    "\n",
    "class CheckChecker(metaclass=CheckCheckedMeta): pass"
   ]
  },
  {
   "cell_type": "code",
   "execution_count": 35,
   "metadata": {},
   "outputs": [
    {
     "name": "stdout",
     "output_type": "stream",
     "text": [
      "instance checked None\n"
     ]
    },
    {
     "data": {
      "text/plain": [
       "False"
      ]
     },
     "execution_count": 35,
     "metadata": {},
     "output_type": "execute_result"
    }
   ],
   "source": [
    "isinstance(None,CheckChecker)"
   ]
  },
  {
   "cell_type": "code",
   "execution_count": 36,
   "metadata": {},
   "outputs": [
    {
     "name": "stdout",
     "output_type": "stream",
     "text": [
      "subclass checked <class 'object'>\n"
     ]
    },
    {
     "data": {
      "text/plain": [
       "False"
      ]
     },
     "execution_count": 36,
     "metadata": {},
     "output_type": "execute_result"
    }
   ],
   "source": [
    "issubclass(object,CheckChecker)"
   ]
  },
  {
   "cell_type": "markdown",
   "metadata": {},
   "source": [
    "* \\_\\_init_subclass\\_\\_ - Python 3.6"
   ]
  },
  {
   "cell_type": "code",
   "execution_count": null,
   "metadata": {},
   "outputs": [],
   "source": [
    "def __init_subclass__(cls, **kwargs):\n",
    "    super().__init_subclass__(**kwargs)"
   ]
  },
  {
   "cell_type": "code",
   "execution_count": 38,
   "metadata": {},
   "outputs": [
    {
     "data": {
      "text/plain": [
       "4"
      ]
     },
     "execution_count": 38,
     "metadata": {},
     "output_type": "execute_result"
    }
   ],
   "source": [
    "class SizedContainer:\n",
    "    def __init_subclass__(cls, **kwargs):\n",
    "        cls.cls_field_count = len(cls.__dict__)\n",
    "        super().__init_subclass__(**kwargs)\n",
    "\n",
    "class Jar(SizedContainer):\n",
    "    pickles = 18\n",
    "    juice_oz = 12\n",
    "          \n",
    "Jar.cls_field_count"
   ]
  },
  {
   "cell_type": "markdown",
   "metadata": {},
   "source": [
    "Let the games begin! (10 minutes)"
   ]
  },
  {
   "cell_type": "markdown",
   "metadata": {},
   "source": [
    "* Turning ABCs into interfaces\n",
    "  - stripping the non-abstract methods"
   ]
  },
  {
   "cell_type": "code",
   "execution_count": 2,
   "metadata": {},
   "outputs": [],
   "source": [
    "import abc\n",
    "\n",
    "\n",
    "class SloppyInterface(abc.ABC):\n",
    "    @abc.abstractmethod\n",
    "    def fetch_bread(self):pass\n",
    "    @abc.abstractmethod\n",
    "    def fetch_meat(self):pass\n",
    "    \n",
    "    def make_sandwich(self):\n",
    "        return [self.fetch_bread(), \n",
    "                self.fetch_meat(), \n",
    "                self.fetch_bread()]"
   ]
  },
  {
   "cell_type": "code",
   "execution_count": 3,
   "metadata": {},
   "outputs": [
    {
     "data": {
      "text/plain": [
       "dict_keys(['__module__', 'fetch_bread', 'fetch_meat', 'make_sandwich', '__dict__', '__weakref__', '__doc__', '__abstractmethods__', '_abc_impl'])"
      ]
     },
     "execution_count": 3,
     "metadata": {},
     "output_type": "execute_result"
    }
   ],
   "source": [
    "SloppyInterface.__dict__.keys()"
   ]
  },
  {
   "cell_type": "code",
   "execution_count": 4,
   "metadata": {},
   "outputs": [],
   "source": [
    "def force_interface(klass):\n",
    "    for f, d in tuple(klass.__dict__.items()):\n",
    "        if not hasattr(d,'__isabstractmethod__') \\\n",
    "        and f not in ('__dict__','__module__',\n",
    "                      '__doc__','__weakref__',\n",
    "                      '__abstractmethods__',\n",
    "                      '_abc_impl'):\n",
    "            delattr(klass, f) \n",
    "    return klass\n",
    "\n",
    "@force_interface\n",
    "class SloppyInterface(abc.ABC):\n",
    "    @abc.abstractmethod\n",
    "    def fetch_bread(self): pass\n",
    "    @abc.abstractmethod\n",
    "    def fetch_meat(self): pass\n",
    "    \n",
    "    def make_sandwich(self):\n",
    "        return [self.fetch_bread(), \n",
    "                self.fetch_meat(), \n",
    "                self.fetch_bread()]      "
   ]
  },
  {
   "cell_type": "code",
   "execution_count": 5,
   "metadata": {},
   "outputs": [
    {
     "ename": "AttributeError",
     "evalue": "type object 'SloppyInterface' has no attribute 'make_sandwich'",
     "output_type": "error",
     "traceback": [
      "\u001b[0;31m---------------------------------------------------------------------------\u001b[0m",
      "\u001b[0;31mAttributeError\u001b[0m                            Traceback (most recent call last)",
      "\u001b[0;32m<ipython-input-5-eb2a06b1418f>\u001b[0m in \u001b[0;36m<module>\u001b[0;34m()\u001b[0m\n\u001b[0;32m----> 1\u001b[0;31m \u001b[0mSloppyInterface\u001b[0m\u001b[0;34m.\u001b[0m\u001b[0mmake_sandwich\u001b[0m\u001b[0;34m(\u001b[0m\u001b[0;34m)\u001b[0m\u001b[0;34m\u001b[0m\u001b[0;34m\u001b[0m\u001b[0m\n\u001b[0m",
      "\u001b[0;31mAttributeError\u001b[0m: type object 'SloppyInterface' has no attribute 'make_sandwich'"
     ]
    }
   ],
   "source": [
    "SloppyInterface.make_sandwich()"
   ]
  },
  {
   "cell_type": "code",
   "execution_count": 6,
   "metadata": {},
   "outputs": [
    {
     "data": {
      "text/plain": [
       "dict_keys(['__module__', 'fetch_bread', 'fetch_meat', '__dict__', '__weakref__', '__doc__', '__abstractmethods__', '_abc_impl'])"
      ]
     },
     "execution_count": 6,
     "metadata": {},
     "output_type": "execute_result"
    }
   ],
   "source": [
    "SloppyInterface.__dict__.keys()"
   ]
  },
  {
   "cell_type": "code",
   "execution_count": 14,
   "metadata": {},
   "outputs": [
    {
     "data": {
      "text/plain": [
       "dict_keys(['__module__', 'fetch_bread', 'fetch_meat', '__doc__', '__abstractmethods__', '_abc_impl'])"
      ]
     },
     "execution_count": 14,
     "metadata": {},
     "output_type": "execute_result"
    }
   ],
   "source": [
    "class ForceInterface(abc.ABC):\n",
    "  def __init_subclass__(cls):\n",
    "    super().__init_subclass__()\n",
    "    for f, d in tuple(\n",
    "            cls.__dict__.items()):\n",
    "      if not hasattr(d,\n",
    "            '__isabstractmethod__')\\\n",
    "        and f not in ('__dict__',\n",
    "                    '__module__',\n",
    "                    '__doc__',\n",
    "                    '__weakref__',\n",
    "                    '__abstractmethods__',\n",
    "                    '_abc_impl'):\n",
    "                delattr(cls, f) \n",
    "                \n",
    "class SloppyInterface(ForceInterface):\n",
    "    @abc.abstractmethod\n",
    "    def fetch_bread(self): pass\n",
    "    @abc.abstractmethod\n",
    "    def fetch_meat(self): pass\n",
    "    \n",
    "    def make_sandwich(self):\n",
    "        return [self.fetch_bread(), \n",
    "                self.fetch_meat(), \n",
    "                self.fetch_bread()]\n",
    "\n",
    "SloppyInterface.__dict__.keys()"
   ]
  },
  {
   "cell_type": "markdown",
   "metadata": {},
   "source": [
    "__Real Talk:__ ABCs are good as they are, this is not likely to be something you ever want to do, though you might use a similar technique to help document.  "
   ]
  },
  {
   "cell_type": "code",
   "execution_count": 8,
   "metadata": {},
   "outputs": [],
   "source": [
    "class RealSandwich(SloppyInterface):\n",
    "    def __init_subclass__(cls, **kwargs): \n",
    "        pass\n",
    "class BeefBrisket(RealSandwich):\n",
    "    def fetch_bread(self): \n",
    "        return \"1 Slice Wonder Bread\"\n",
    "    def fetch_meat(self): \n",
    "        return \"Beef Brisket\"\n",
    "    def make_sandwich(self):\n",
    "        return [self.fetch_bread(), \n",
    "                self.fetch_meat(), \n",
    "                self.fetch_bread()]    "
   ]
  },
  {
   "cell_type": "code",
   "execution_count": 9,
   "metadata": {},
   "outputs": [
    {
     "data": {
      "text/plain": [
       "['1 Slice Wonder Bread', 'Beef Brisket', '1 Slice Wonder Bread']"
      ]
     },
     "execution_count": 9,
     "metadata": {},
     "output_type": "execute_result"
    }
   ],
   "source": [
    "BeefBrisket().make_sandwich()\n"
   ]
  },
  {
   "cell_type": "markdown",
   "metadata": {},
   "source": [
    "# FakeInterface 1\n",
    "\n",
    "* The FakeInterface\n",
    "  - an interface with no inheritance at all\n",
    "  - \\_\\_subclasshook\\_\\_ to pretend inheritance"
   ]
  },
  {
   "cell_type": "code",
   "execution_count": 4,
   "metadata": {},
   "outputs": [],
   "source": [
    "class FakeInterfaceMeta(type):\n",
    "    def __instancecheck__(cls, instance):\n",
    "        return cls.__subclasscheck__(instance.__class__)\n",
    "    def __subclasscheck__(cls, subclass):\n",
    "        if not hasattr(subclass, 'type_flag'):\n",
    "            return super(FakeInterfaceMeta, cls).__subclasscheck__(subclass)\n",
    "        return cls.type_flag == subclass.type_flag\n",
    "\n",
    "class FakeInterface(metaclass=FakeInterfaceMeta): pass\n",
    "    \n",
    "class Stock(FakeInterface):\n",
    "    type_flag = 'STOCK'\n",
    "\n",
    "class PreferredStock(FakeInterface):\n",
    "    type_flag = 'PREFERRED'\n",
    "    "
   ]
  },
  {
   "cell_type": "code",
   "execution_count": 104,
   "metadata": {},
   "outputs": [],
   "source": [
    "class IbmC: type_flag = 'STOCK'\n",
    "class IbmP: type_flag = 'PREFERRED'"
   ]
  },
  {
   "cell_type": "code",
   "execution_count": 105,
   "metadata": {},
   "outputs": [
    {
     "data": {
      "text/plain": [
       "False"
      ]
     },
     "execution_count": 105,
     "metadata": {},
     "output_type": "execute_result"
    }
   ],
   "source": [
    "issubclass(IbmC, PreferredStock)"
   ]
  },
  {
   "cell_type": "code",
   "execution_count": 106,
   "metadata": {},
   "outputs": [
    {
     "data": {
      "text/plain": [
       "True"
      ]
     },
     "execution_count": 106,
     "metadata": {},
     "output_type": "execute_result"
    }
   ],
   "source": [
    "issubclass(IbmC, Stock)"
   ]
  },
  {
   "cell_type": "code",
   "execution_count": 6,
   "metadata": {},
   "outputs": [
    {
     "data": {
      "text/plain": [
       "False"
      ]
     },
     "execution_count": 6,
     "metadata": {},
     "output_type": "execute_result"
    }
   ],
   "source": [
    "issubclass(object, Stock)"
   ]
  },
  {
   "cell_type": "code",
   "execution_count": 107,
   "metadata": {},
   "outputs": [
    {
     "data": {
      "text/plain": [
       "((object,), (object,))"
      ]
     },
     "execution_count": 107,
     "metadata": {},
     "output_type": "execute_result"
    }
   ],
   "source": [
    "IbmC.__bases__, Stock.__bases__"
   ]
  },
  {
   "cell_type": "code",
   "execution_count": 108,
   "metadata": {},
   "outputs": [
    {
     "data": {
      "text/plain": [
       "True"
      ]
     },
     "execution_count": 108,
     "metadata": {},
     "output_type": "execute_result"
    }
   ],
   "source": [
    "isinstance(IbmC(),Stock)"
   ]
  },
  {
   "cell_type": "markdown",
   "metadata": {},
   "source": [
    "__Real Talk:__  This alone is not enough to justify using isinstance/isubclass, but if you are already using it for another reason you can use this to enable special rules."
   ]
  },
  {
   "attachments": {},
   "cell_type": "markdown",
   "metadata": {},
   "source": [
    "# FakeInterface 2\n",
    "\n",
    "* The FakeInterface\n",
    "  - an interface with no inheritance at all\n",
    "  - let’s assume we’re reading in data that used to be classes but is now just dicts."
   ]
  },
  {
   "cell_type": "code",
   "execution_count": null,
   "metadata": {},
   "outputs": [],
   "source": [
    "class FakeInterfaceMeta(type):\n",
    "    def __instancecheck__(cls, instance):\n",
    "        if not hasattr(instance, 'get'):\n",
    "            return super(FakeInterfaceMeta, cls).__instancecheck__(instance)\n",
    "        return cls.type_flag == instance.get('type_flag', None)\n",
    "\n",
    "class FakeInterface(metaclass=FakeInterfaceMeta): pass"
   ]
  },
  {
   "cell_type": "code",
   "execution_count": 31,
   "metadata": {},
   "outputs": [],
   "source": [
    "class Stock(FakeInterface):\n",
    "    type_flag = 'STOCK'\n",
    "\n",
    "class PreferredStock(FakeInterface):\n",
    "    type_flag = 'PREFERRED'\n",
    "    "
   ]
  },
  {
   "cell_type": "code",
   "execution_count": 32,
   "metadata": {},
   "outputs": [],
   "source": [
    "ibmc = {'type_flag': 'STOCK', 'SYM': 'IBM', 'Price': 135.47} \n",
    "ibmp = {'type_flag': 'PREFERRED', 'SYM': 'IBM-A', 'Price': None}"
   ]
  },
  {
   "cell_type": "code",
   "execution_count": 33,
   "metadata": {},
   "outputs": [
    {
     "data": {
      "text/plain": [
       "True"
      ]
     },
     "execution_count": 33,
     "metadata": {},
     "output_type": "execute_result"
    }
   ],
   "source": [
    "isinstance(ibmc, Stock)"
   ]
  },
  {
   "cell_type": "code",
   "execution_count": 34,
   "metadata": {},
   "outputs": [
    {
     "data": {
      "text/plain": [
       "False"
      ]
     },
     "execution_count": 34,
     "metadata": {},
     "output_type": "execute_result"
    }
   ],
   "source": [
    "isinstance(ibmc, PreferredStock)"
   ]
  },
  {
   "cell_type": "code",
   "execution_count": 35,
   "metadata": {},
   "outputs": [
    {
     "data": {
      "text/plain": [
       "True"
      ]
     },
     "execution_count": 35,
     "metadata": {},
     "output_type": "execute_result"
    }
   ],
   "source": [
    "isinstance(ibmp, PreferredStock)"
   ]
  },
  {
   "cell_type": "code",
   "execution_count": 36,
   "metadata": {},
   "outputs": [
    {
     "data": {
      "text/plain": [
       "False"
      ]
     },
     "execution_count": 36,
     "metadata": {},
     "output_type": "execute_result"
    }
   ],
   "source": [
    "issubclass(dict, Stock)"
   ]
  },
  {
   "cell_type": "code",
   "execution_count": null,
   "metadata": {},
   "outputs": [],
   "source": [
    "class FakeInterfaceMeta(type):\n",
    "    def __instancecheck__(cls, instance):\n",
    "        if not hasattr(instance, 'get'):\n",
    "            return super(FakeInterfaceMeta, cls).__instancecheck__(instance)\n",
    "        return cls.type_flag == instance.get('type_flag', None)\n",
    "\n",
    "class FakeInterface(metaclass=FakeInterfaceMeta): pass"
   ]
  },
  {
   "cell_type": "markdown",
   "metadata": {},
   "source": [
    "__Real Talk:__  This alone is not enough to justify using isinstance/isubclass, but if you are already using it for another reason you can use this to enable special rules."
   ]
  },
  {
   "cell_type": "markdown",
   "metadata": {},
   "source": [
    "* Exempting a few methods"
   ]
  },
  {
   "cell_type": "code",
   "execution_count": 1,
   "metadata": {},
   "outputs": [],
   "source": [
    "class MetaUtil(type):\n",
    "    def mro(cls):\n",
    "        mro = type.mro(cls)\n",
    "        if UtilityClass in mro:\n",
    "            mro.remove(UtilityClass)\n",
    "        mro = [mro[0], UtilityClass]+\\\n",
    "            mro[1:]\n",
    "        return mro\n",
    "\n",
    "class UtilityClass:\n",
    "    @property\n",
    "    def name(self): \n",
    "        return self.__class__.__name__\n",
    "    \n",
    "class Vehicle(metaclass=MetaUtil):\n",
    "    pass\n",
    "    \n",
    "class Car(Vehicle):\n",
    "    name = 'Automobile'\n",
    "    def start(self):\n",
    "        print('Turn key')\n",
    "\n",
    "class Taxi(Car): pass"
   ]
  },
  {
   "cell_type": "code",
   "execution_count": 2,
   "metadata": {
    "scrolled": true
   },
   "outputs": [
    {
     "data": {
      "text/plain": [
       "(__main__.Taxi, __main__.UtilityClass, __main__.Car, __main__.Vehicle, object)"
      ]
     },
     "execution_count": 2,
     "metadata": {},
     "output_type": "execute_result"
    }
   ],
   "source": [
    "Taxi.__mro__"
   ]
  },
  {
   "cell_type": "code",
   "execution_count": 3,
   "metadata": {},
   "outputs": [
    {
     "name": "stdout",
     "output_type": "stream",
     "text": [
      "Turn key\n"
     ]
    }
   ],
   "source": [
    "Taxi().start()"
   ]
  },
  {
   "cell_type": "code",
   "execution_count": 4,
   "metadata": {
    "scrolled": true
   },
   "outputs": [
    {
     "data": {
      "text/plain": [
       "'Taxi'"
      ]
     },
     "execution_count": 4,
     "metadata": {},
     "output_type": "execute_result"
    }
   ],
   "source": [
    "Taxi().name"
   ]
  },
  {
   "cell_type": "code",
   "execution_count": 5,
   "metadata": {},
   "outputs": [
    {
     "data": {
      "text/plain": [
       "'Automobile'"
      ]
     },
     "execution_count": 5,
     "metadata": {},
     "output_type": "execute_result"
    }
   ],
   "source": [
    "Car().name"
   ]
  },
  {
   "cell_type": "markdown",
   "metadata": {},
   "source": [
    "* making some methods that can't be written in subclasses"
   ]
  },
  {
   "cell_type": "code",
   "execution_count": 17,
   "metadata": {},
   "outputs": [],
   "source": [
    "class MetaUtil(type):\n",
    "    def mro(cls):\n",
    "        mro = type.mro(cls)\n",
    "        if UtilityClass in mro:\n",
    "            mro.remove(UtilityClass)\n",
    "        mro = [UtilityClass]+\\\n",
    "            mro\n",
    "        return mro\n",
    "\n",
    "class UtilityClass:\n",
    "    @property\n",
    "    def name(self): \n",
    "        return self.__class__.__name__\n",
    "   \n",
    "class Vehicle(metaclass=MetaUtil):\n",
    "    pass  "
   ]
  },
  {
   "cell_type": "code",
   "execution_count": null,
   "metadata": {},
   "outputs": [],
   "source": [
    "class Car(Vehicle):\n",
    "    def start(self):\n",
    "        print('Turn key')"
   ]
  },
  {
   "cell_type": "code",
   "execution_count": 15,
   "metadata": {},
   "outputs": [
    {
     "data": {
      "text/plain": [
       "'Car'"
      ]
     },
     "execution_count": 15,
     "metadata": {},
     "output_type": "execute_result"
    }
   ],
   "source": [
    "Car().name"
   ]
  },
  {
   "cell_type": "code",
   "execution_count": 16,
   "metadata": {},
   "outputs": [
    {
     "name": "stdout",
     "output_type": "stream",
     "text": [
      "Turn key\n"
     ]
    }
   ],
   "source": [
    "Car().start()"
   ]
  },
  {
   "cell_type": "code",
   "execution_count": 11,
   "metadata": {},
   "outputs": [],
   "source": [
    "class Taxi(Car):\n",
    "    name = 'Ride Share'"
   ]
  },
  {
   "cell_type": "code",
   "execution_count": 13,
   "metadata": {},
   "outputs": [
    {
     "name": "stdout",
     "output_type": "stream",
     "text": [
      "Turn key\n"
     ]
    }
   ],
   "source": [
    "Taxi().start()"
   ]
  },
  {
   "cell_type": "code",
   "execution_count": 14,
   "metadata": {
    "scrolled": true
   },
   "outputs": [
    {
     "data": {
      "text/plain": [
       "'Taxi'"
      ]
     },
     "execution_count": 14,
     "metadata": {},
     "output_type": "execute_result"
    }
   ],
   "source": [
    "Taxi().name"
   ]
  },
  {
   "cell_type": "code",
   "execution_count": 12,
   "metadata": {
    "scrolled": true
   },
   "outputs": [
    {
     "data": {
      "text/plain": [
       "(__main__.UtilityClass, __main__.Taxi, __main__.Car, __main__.Vehicle, object)"
      ]
     },
     "execution_count": 12,
     "metadata": {},
     "output_type": "execute_result"
    }
   ],
   "source": [
    "Taxi.__mro__"
   ]
  },
  {
   "cell_type": "code",
   "execution_count": null,
   "metadata": {},
   "outputs": [],
   "source": [
    "class Vehicle(metaclass=MetaUtil):\n",
    "    pass    "
   ]
  },
  {
   "cell_type": "markdown",
   "metadata": {},
   "source": [
    "__Real Talk__:  This might actually be the safest to use thing in here."
   ]
  },
  {
   "cell_type": "markdown",
   "metadata": {},
   "source": [
    "* The SimpleObject - a base class with reduced capabilities\n",
    "  - altering the MRO to control the behavior of super() \n",
    "  - disable __new__ and other hooks you choose not to support"
   ]
  },
  {
   "cell_type": "code",
   "execution_count": 25,
   "metadata": {},
   "outputs": [],
   "source": [
    "class SimpleBase(type):\n",
    "    def mro(cls):\n",
    "        ret = [cls]\n",
    "        while len(cls.__bases__):\n",
    "            cls = cls.__bases__[0]\n",
    "            ret.append(cls)\n",
    "        return ret\n",
    "        \n",
    "class SimpleObject(metaclass=SimpleBase): \n",
    "    pass"
   ]
  },
  {
   "cell_type": "code",
   "execution_count": 26,
   "metadata": {},
   "outputs": [],
   "source": [
    "class A(SimpleObject): pass\n",
    "class B(A): pass\n",
    "class C(A): pass\n",
    "class D(B,C): \n",
    "    def __init__(self):\n",
    "        print(self)"
   ]
  },
  {
   "cell_type": "code",
   "execution_count": 59,
   "metadata": {},
   "outputs": [
    {
     "name": "stdout",
     "output_type": "stream",
     "text": [
      "A.__init__\n",
      "B.__init__\n",
      "D.__init__\n"
     ]
    },
    {
     "data": {
      "text/plain": [
       "<__main__.D at 0x1f824970fd0>"
      ]
     },
     "execution_count": 59,
     "metadata": {},
     "output_type": "execute_result"
    }
   ],
   "source": [
    "class A(SimpleObject): \n",
    "    def __init__(self): \n",
    "        super(A,self).__init__()\n",
    "        print('A.__init__')\n",
    "class B(A): \n",
    "    def __init__(self):  \n",
    "        super(B,self).__init__()\n",
    "        print('B.__init__')\n",
    "class C(A): \n",
    "    def __init__(self): \n",
    "        super(C,self).__init__()\n",
    "        print('C.__init__')\n",
    "class D(B,C): \n",
    "    def __init__(self):\n",
    "        super(D,self).__init__()\n",
    "        print('D.__init__')\n",
    "        \n",
    "D()"
   ]
  },
  {
   "cell_type": "markdown",
   "metadata": {},
   "source": [
    "__Real Talk:__ Again the point is we can pick and choose some features, not which features we're picking.  I might particularly suggest removing bases."
   ]
  },
  {
   "cell_type": "code",
   "execution_count": 2,
   "metadata": {},
   "outputs": [],
   "source": [
    "class SimpleBase(type):\n",
    "    def __new__(meta, name, bases, dct, **kwargs):\n",
    "        return super(SimpleBase, meta).__new__(meta, name, bases[0:1], dct, **kwargs)\n",
    "    \n",
    "class SimpleObject(metaclass=SimpleBase): \n",
    "    pass"
   ]
  },
  {
   "cell_type": "code",
   "execution_count": 3,
   "metadata": {},
   "outputs": [],
   "source": [
    "class A(SimpleObject): pass\n",
    "class B(A): pass\n",
    "class C(A): pass\n",
    "class D(B,C): \n",
    "    def __init__(self):\n",
    "        print(self)"
   ]
  },
  {
   "cell_type": "code",
   "execution_count": 4,
   "metadata": {},
   "outputs": [
    {
     "name": "stdout",
     "output_type": "stream",
     "text": [
      "A.__init__\n",
      "B.__init__\n",
      "D.__init__\n"
     ]
    },
    {
     "data": {
      "text/plain": [
       "<__main__.D at 0x276cc0f0dd8>"
      ]
     },
     "execution_count": 4,
     "metadata": {},
     "output_type": "execute_result"
    }
   ],
   "source": [
    "class A(SimpleObject): \n",
    "    def __init__(self): \n",
    "        super(A,self).__init__()\n",
    "        print('A.__init__')\n",
    "class B(A): \n",
    "    def __init__(self):  \n",
    "        super(B,self).__init__()\n",
    "        print('B.__init__')\n",
    "class C(A): \n",
    "    def __init__(self): \n",
    "        super(C,self).__init__()\n",
    "        print('C.__init__')\n",
    "class D(B,C): \n",
    "    def __init__(self):\n",
    "        super(D,self).__init__()\n",
    "        print('D.__init__')\n",
    "        \n",
    "D()"
   ]
  },
  {
   "cell_type": "code",
   "execution_count": 36,
   "metadata": {},
   "outputs": [
    {
     "name": "stdout",
     "output_type": "stream",
     "text": [
      "SimpleObject: \t    -     \t    -     \t    -     \t    -     \tSimpleObject\t  object  \n",
      "A           : \t    -     \t    -     \t    -     \t    A     \t    -     \t  object  \n",
      "B           : \t    -     \t    -     \t    B     \t    A     \t    -     \t  object  \n",
      "C           : \t    -     \t    C     \t    -     \t    A     \t    -     \t  object  \n",
      "D           : \t    D     \t    -     \t    B     \t    A     \t    -     \t  object  \n"
     ]
    }
   ],
   "source": [
    "for klass in [SimpleObject,A,B,C,D]:\n",
    "    mro = '\\t'.join('{:^10}'.format(k.__name__ if k in klass.__mro__ else '-') for k in [D,C,B,A,SimpleObject,object])\n",
    "    print(f'{klass.__name__:12}: \\t{mro}')"
   ]
  },
  {
   "cell_type": "code",
   "execution_count": 96,
   "metadata": {},
   "outputs": [
    {
     "name": "stdout",
     "output_type": "stream",
     "text": [
      "<__main__.D object at 0x0000024EC840C630>\n"
     ]
    }
   ],
   "source": [
    "D()"
   ]
  },
  {
   "cell_type": "markdown",
   "metadata": {},
   "source": [
    "# This approach breaks ABCs "
   ]
  },
  {
   "cell_type": "code",
   "execution_count": 74,
   "metadata": {},
   "outputs": [],
   "source": [
    "class interface_metaclass(abc.ABCMeta):\n",
    "    def mro(cls):\n",
    "        return  tuple(base for base in \n",
    "                      super(interface_metaclass, cls).mro() \n",
    "                      if not getattr(base,'__abstractmethods__',0))"
   ]
  },
  {
   "cell_type": "code",
   "execution_count": 75,
   "metadata": {},
   "outputs": [],
   "source": [
    "class RetTrueABC(abc.ABC):\n",
    "    @abc.abstractmethod\n",
    "    def return_true(self):\n",
    "        pass    \n",
    "    def return_value(self): \n",
    "        return self.return_true()\n",
    "\n",
    "class RetTrueInterface(RetTrueABC, \n",
    "                       metaclass=interface_metaclass):\n",
    "    pass"
   ]
  },
  {
   "cell_type": "code",
   "execution_count": 76,
   "metadata": {},
   "outputs": [],
   "source": [
    "class AsAbc(RetTrueABC):\n",
    "    def return_true(self):\n",
    "        return \"True\"\n",
    "    \n",
    "class AsInterface(RetTrueInterface):\n",
    "    def return_true(self):\n",
    "        return \"TRUTH (out there)\"\n",
    "    "
   ]
  },
  {
   "cell_type": "code",
   "execution_count": 77,
   "metadata": {},
   "outputs": [
    {
     "data": {
      "text/plain": [
       "'True'"
      ]
     },
     "execution_count": 77,
     "metadata": {},
     "output_type": "execute_result"
    }
   ],
   "source": [
    "AsAbc().return_value()"
   ]
  },
  {
   "cell_type": "code",
   "execution_count": 78,
   "metadata": {},
   "outputs": [
    {
     "data": {
      "text/plain": [
       "'TRUTH (out there)'"
      ]
     },
     "execution_count": 78,
     "metadata": {},
     "output_type": "execute_result"
    }
   ],
   "source": [
    "AsInterface().return_true()"
   ]
  },
  {
   "cell_type": "code",
   "execution_count": 79,
   "metadata": {},
   "outputs": [
    {
     "ename": "AttributeError",
     "evalue": "'AsInterface' object has no attribute 'return_value'",
     "output_type": "error",
     "traceback": [
      "\u001b[0;31m---------------------------------------------------------------------------\u001b[0m",
      "\u001b[0;31mAttributeError\u001b[0m                            Traceback (most recent call last)",
      "\u001b[0;32m<ipython-input-79-f58ed4cde920>\u001b[0m in \u001b[0;36m<module>\u001b[0;34m()\u001b[0m\n\u001b[0;32m----> 1\u001b[0;31m \u001b[0mAsInterface\u001b[0m\u001b[0;34m(\u001b[0m\u001b[0;34m)\u001b[0m\u001b[0;34m.\u001b[0m\u001b[0mreturn_value\u001b[0m\u001b[0;34m(\u001b[0m\u001b[0;34m)\u001b[0m\u001b[0;34m\u001b[0m\u001b[0;34m\u001b[0m\u001b[0m\n\u001b[0m",
      "\u001b[0;31mAttributeError\u001b[0m: 'AsInterface' object has no attribute 'return_value'"
     ]
    }
   ],
   "source": [
    "AsInterface().return_value()"
   ]
  },
  {
   "cell_type": "code",
   "execution_count": 83,
   "metadata": {
    "scrolled": true
   },
   "outputs": [
    {
     "ename": "TypeError",
     "evalue": "Can't instantiate abstract class BadInterface with abstract methods return_true",
     "output_type": "error",
     "traceback": [
      "\u001b[0;31m---------------------------------------------------------------------------\u001b[0m",
      "\u001b[0;31mTypeError\u001b[0m                                 Traceback (most recent call last)",
      "\u001b[0;32m<ipython-input-83-6763eaa10d73>\u001b[0m in \u001b[0;36m<module>\u001b[0;34m()\u001b[0m\n\u001b[1;32m      1\u001b[0m \u001b[0;32mclass\u001b[0m \u001b[0mBadInterface\u001b[0m\u001b[0;34m(\u001b[0m\u001b[0mRetTrueABC\u001b[0m\u001b[0;34m)\u001b[0m\u001b[0;34m:\u001b[0m\u001b[0;34m\u001b[0m\u001b[0;34m\u001b[0m\u001b[0m\n\u001b[1;32m      2\u001b[0m     \u001b[0;32mdef\u001b[0m \u001b[0msomethingElse\u001b[0m\u001b[0;34m(\u001b[0m\u001b[0mself\u001b[0m\u001b[0;34m)\u001b[0m\u001b[0;34m:\u001b[0m\u001b[0;32mpass\u001b[0m\u001b[0;34m\u001b[0m\u001b[0;34m\u001b[0m\u001b[0m\n\u001b[0;32m----> 3\u001b[0;31m \u001b[0mBadInterface\u001b[0m\u001b[0;34m(\u001b[0m\u001b[0;34m)\u001b[0m\u001b[0;34m\u001b[0m\u001b[0;34m\u001b[0m\u001b[0m\n\u001b[0m",
      "\u001b[0;31mTypeError\u001b[0m: Can't instantiate abstract class BadInterface with abstract methods return_true"
     ]
    }
   ],
   "source": [
    "class BadInterface(RetTrueInterface):\n",
    "    def somethingElse(self):pass\n",
    "BadInterface()"
   ]
  },
  {
   "cell_type": "code",
   "execution_count": 66,
   "metadata": {},
   "outputs": [
    {
     "name": "stdout",
     "output_type": "stream",
     "text": [
      "{'__module__': '__main__', '__dict__': <attribute '__dict__' of 'SimpleObject' objects>, '__weakref__': <attribute '__weakref__' of 'SimpleObject' objects>, '__main_base__': <class 'object'>}\n",
      "<class 'object'>\n"
     ]
    },
    {
     "ename": "AttributeError",
     "evalue": "type object 'SimpleObject' has no attribute '__main_base__'",
     "output_type": "error",
     "traceback": [
      "\u001b[0;31m---------------------------------------------------------------------------\u001b[0m",
      "\u001b[0;31mAttributeError\u001b[0m                            Traceback (most recent call last)",
      "\u001b[0;32m<ipython-input-66-0d11523f873f>\u001b[0m in \u001b[0;36m<module>\u001b[0;34m()\u001b[0m\n\u001b[1;32m     18\u001b[0m         \u001b[0;32mreturn\u001b[0m \u001b[0mret\u001b[0m\u001b[0;34m\u001b[0m\u001b[0;34m\u001b[0m\u001b[0m\n\u001b[1;32m     19\u001b[0m \u001b[0;34m\u001b[0m\u001b[0m\n\u001b[0;32m---> 20\u001b[0;31m \u001b[0;32mclass\u001b[0m \u001b[0mSimpleObject\u001b[0m\u001b[0;34m(\u001b[0m\u001b[0mmetaclass\u001b[0m\u001b[0;34m=\u001b[0m\u001b[0mSimpleBase\u001b[0m\u001b[0;34m)\u001b[0m\u001b[0;34m:\u001b[0m \u001b[0;32mpass\u001b[0m\u001b[0;34m\u001b[0m\u001b[0;34m\u001b[0m\u001b[0m\n\u001b[0m\u001b[1;32m     21\u001b[0m \u001b[0;32mclass\u001b[0m \u001b[0mA\u001b[0m\u001b[0;34m(\u001b[0m\u001b[0mSimpleObject\u001b[0m\u001b[0;34m)\u001b[0m\u001b[0;34m:\u001b[0m \u001b[0;32mpass\u001b[0m\u001b[0;34m\u001b[0m\u001b[0;34m\u001b[0m\u001b[0m\n\u001b[1;32m     22\u001b[0m \u001b[0;32mclass\u001b[0m \u001b[0mB\u001b[0m\u001b[0;34m(\u001b[0m\u001b[0mA\u001b[0m\u001b[0;34m)\u001b[0m\u001b[0;34m:\u001b[0m \u001b[0;32mpass\u001b[0m\u001b[0;34m\u001b[0m\u001b[0;34m\u001b[0m\u001b[0m\n",
      "\u001b[0;32m<ipython-input-66-0d11523f873f>\u001b[0m in \u001b[0;36mmro\u001b[0;34m(cls)\u001b[0m\n\u001b[1;32m      9\u001b[0m         \u001b[0mprint\u001b[0m\u001b[0;34m(\u001b[0m\u001b[0;34mf'{cls.__dict__}'\u001b[0m\u001b[0;34m)\u001b[0m\u001b[0;34m\u001b[0m\u001b[0;34m\u001b[0m\u001b[0m\n\u001b[1;32m     10\u001b[0m         \u001b[0mprint\u001b[0m\u001b[0;34m(\u001b[0m\u001b[0mcls\u001b[0m\u001b[0;34m.\u001b[0m\u001b[0m__dict__\u001b[0m\u001b[0;34m[\u001b[0m\u001b[0;34m\"__main_base__\"\u001b[0m\u001b[0;34m]\u001b[0m\u001b[0;34m)\u001b[0m\u001b[0;34m\u001b[0m\u001b[0;34m\u001b[0m\u001b[0m\n\u001b[0;32m---> 11\u001b[0;31m         \u001b[0mprint\u001b[0m\u001b[0;34m(\u001b[0m\u001b[0mgetattr\u001b[0m\u001b[0;34m(\u001b[0m\u001b[0mcls\u001b[0m\u001b[0;34m,\u001b[0m\u001b[0;34m\"__main_base__\"\u001b[0m\u001b[0;34m)\u001b[0m\u001b[0;34m)\u001b[0m\u001b[0;34m\u001b[0m\u001b[0;34m\u001b[0m\u001b[0m\n\u001b[0m\u001b[1;32m     12\u001b[0m \u001b[0;31m#        print(f'{cls.__name__} - {cls.__bases__} {getattr(cls,\"__main_base__\")}')\u001b[0m\u001b[0;34m\u001b[0m\u001b[0;34m\u001b[0m\u001b[0;34m\u001b[0m\u001b[0m\n\u001b[1;32m     13\u001b[0m \u001b[0;34m\u001b[0m\u001b[0m\n",
      "\u001b[0;31mAttributeError\u001b[0m: type object 'SimpleObject' has no attribute '__main_base__'"
     ]
    }
   ],
   "source": [
    "class SimpleBase(type):\n",
    "    def __get_attr(self, field):\n",
    "        print(f'SimpleBase {self} {field}')\n",
    "    def mro(cls):\n",
    "        if len(cls.__bases__):\n",
    "            cls.__main_base__ = cls.__bases__[0]\n",
    "        else:\n",
    "            cls.__main_base__ = object\n",
    "        print(f'{cls.__dict__}')\n",
    "        print(cls.__dict__[\"__main_base__\"])\n",
    "        print(getattr(cls,\"__main_base__\"))\n",
    "#        print(f'{cls.__name__} - {cls.__bases__} {getattr(cls,\"__main_base__\")}')\n",
    "    \n",
    "        ret = [cls]\n",
    "        while hasattr(cls,'__main_base__'):\n",
    "            cls = cls.__main_base__\n",
    "            ret.append(cls)\n",
    "        return ret\n",
    "    \n",
    "class SimpleObject(metaclass=SimpleBase): pass\n",
    "class A(SimpleObject): pass\n",
    "class B(A): pass\n",
    "class C(A): pass\n",
    "class D(B,C): pass"
   ]
  }
 ],
 "metadata": {
  "hide_input": false,
  "kernelspec": {
   "display_name": "Python 3",
   "language": "python",
   "name": "python3"
  },
  "language_info": {
   "codemirror_mode": {
    "name": "ipython",
    "version": 3
   },
   "file_extension": ".py",
   "mimetype": "text/x-python",
   "name": "python",
   "nbconvert_exporter": "python",
   "pygments_lexer": "ipython3",
   "version": "3.7.2"
  },
  "pycharm": {
   "stem_cell": {
    "cell_type": "raw",
    "metadata": {
     "collapsed": false
    },
    "source": []
   }
  }
 },
 "nbformat": 4,
 "nbformat_minor": 2
}
